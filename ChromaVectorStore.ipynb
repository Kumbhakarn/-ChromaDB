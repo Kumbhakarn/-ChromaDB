{
  "nbformat": 4,
  "nbformat_minor": 0,
  "metadata": {
    "colab": {
      "provenance": []
    },
    "kernelspec": {
      "name": "python3",
      "display_name": "Python 3"
    },
    "language_info": {
      "name": "python"
    }
  },
  "cells": [
    {
      "cell_type": "code",
      "execution_count": 10,
      "metadata": {
        "id": "7vB48DefNaGd"
      },
      "outputs": [],
      "source": [
        "# !pip install langchain chromadb  tiktoken pypdf langchain_groq langchain_community"
      ]
    },
    {
      "cell_type": "code",
      "source": [
        "from langchain.vectorstores import Chroma\n",
        "from langchain_community.embeddings import HuggingFaceEmbeddings\n",
        "from langchain.schema import Document"
      ],
      "metadata": {
        "id": "pIPzdrrBNgIL"
      },
      "execution_count": 2,
      "outputs": []
    },
    {
      "cell_type": "code",
      "source": [
        "doc1 = Document(\n",
        "        page_content=\"Virat Kohli is one of the most successful and consistent batsmen in IPL history. Known for his aggressive batting style and fitness, he has led the Royal Challengers Bangalore in multiple seasons.\",\n",
        "        metadata={\"team\": \"Royal Challengers Bangalore\"}\n",
        "    )\n",
        "doc2 = Document(\n",
        "        page_content=\"Rohit Sharma is the most successful captain in IPL history, leading Mumbai Indians to five titles. He's known for his calm demeanor and ability to play big innings under pressure.\",\n",
        "        metadata={\"team\": \"Mumbai Indians\"}\n",
        "    )\n",
        "doc3 = Document(\n",
        "        page_content=\"MS Dhoni, famously known as Captain Cool, has led Chennai Super Kings to multiple IPL titles. His finishing skills, wicketkeeping, and leadership are legendary.\",\n",
        "        metadata={\"team\": \"Chennai Super Kings\"}\n",
        "    )\n",
        "doc4 = Document(\n",
        "        page_content=\"Jasprit Bumrah is considered one of the best fast bowlers in T20 cricket. Playing for Mumbai Indians, he is known for his yorkers and death-over expertise.\",\n",
        "        metadata={\"team\": \"Mumbai Indians\"}\n",
        "    )\n",
        "doc5 = Document(\n",
        "        page_content=\"Ravindra Jadeja is a dynamic all-rounder who contributes with both bat and ball. Representing Chennai Super Kings, his quick fielding and match-winning performances make him a key player.\",\n",
        "        metadata={\"team\": \"Chennai Super Kings\"}\n",
        "    )"
      ],
      "metadata": {
        "id": "UmyXYFPCNgLM"
      },
      "execution_count": 3,
      "outputs": []
    },
    {
      "cell_type": "code",
      "source": [
        "docs = [doc1,doc2,doc3,doc4,doc5]"
      ],
      "metadata": {
        "id": "r1u5WxDQNgM1"
      },
      "execution_count": 4,
      "outputs": []
    },
    {
      "cell_type": "code",
      "source": [
        "# Embedding Setup\n",
        "embedding_model = HuggingFaceEmbeddings(\n",
        "    model_name = 'intfloat/e5-small',\n",
        "    encode_kwargs={'normalize_embeddings':True}\n",
        ")"
      ],
      "metadata": {
        "id": "BHB193bXid2i"
      },
      "execution_count": 8,
      "outputs": []
    },
    {
      "cell_type": "code",
      "source": [
        "# Vector Store Setup\n",
        "vector_store = Chroma(\n",
        "    embedding_function = embedding_model,\n",
        "    persist_directory='my_chroma_db',\n",
        "    collection_name='sample'\n",
        ")"
      ],
      "metadata": {
        "id": "qNiBYZZdPqIa"
      },
      "execution_count": 9,
      "outputs": []
    },
    {
      "cell_type": "code",
      "source": [
        "# Add Documents -> we can pass our own id as well\n",
        "vector_store.add_documents(docs)"
      ],
      "metadata": {
        "colab": {
          "base_uri": "https://localhost:8080/"
        },
        "id": "U_yNfsZfPqLT",
        "outputId": "6093d059-80c5-4f65-b63d-ce8fe4e493e4"
      },
      "execution_count": 11,
      "outputs": [
        {
          "output_type": "execute_result",
          "data": {
            "text/plain": [
              "['f413bbc2-6aeb-4e09-87e1-b6ccaff004ed',\n",
              " 'eddf6a56-3baf-41f3-b65d-1ebc4021d2e1',\n",
              " 'dd63e793-9b42-40ad-aade-2ec03e4473ba',\n",
              " '18845c14-7dd5-492b-9cec-1f708fe20837',\n",
              " 'd7b8bead-10a7-4b31-af0c-ef8166ca74ef']"
            ]
          },
          "metadata": {},
          "execution_count": 11
        }
      ]
    },
    {
      "cell_type": "code",
      "source": [
        "# View documents\n",
        "vector_store.get(include=['embeddings','documents','metadatas'])"
      ],
      "metadata": {
        "colab": {
          "base_uri": "https://localhost:8080/"
        },
        "id": "7OiMPIQ3PqN2",
        "outputId": "7e904352-7a24-4929-b501-9ced27eb097a"
      },
      "execution_count": 13,
      "outputs": [
        {
          "output_type": "execute_result",
          "data": {
            "text/plain": [
              "{'ids': ['f413bbc2-6aeb-4e09-87e1-b6ccaff004ed',\n",
              "  'eddf6a56-3baf-41f3-b65d-1ebc4021d2e1',\n",
              "  'dd63e793-9b42-40ad-aade-2ec03e4473ba',\n",
              "  '18845c14-7dd5-492b-9cec-1f708fe20837',\n",
              "  'd7b8bead-10a7-4b31-af0c-ef8166ca74ef'],\n",
              " 'embeddings': array([[ 0.01901846, -0.01498251, -0.08518275, ...,  0.01487343,\n",
              "         -0.00130043,  0.08019212],\n",
              "        [ 0.01963637, -0.03145466, -0.0700325 , ...,  0.00115769,\n",
              "          0.00951147,  0.06269164],\n",
              "        [ 0.01976116, -0.03853019, -0.12037988, ..., -0.01708871,\n",
              "          0.02141129,  0.07051493],\n",
              "        [-0.00270025, -0.02594804, -0.05797949, ..., -0.00857932,\n",
              "          0.00691617,  0.02974599],\n",
              "        [ 0.00416735, -0.04619416, -0.06100054, ...,  0.01147635,\n",
              "          0.00969743,  0.07159948]]),\n",
              " 'documents': ['Virat Kohli is one of the most successful and consistent batsmen in IPL history. Known for his aggressive batting style and fitness, he has led the Royal Challengers Bangalore in multiple seasons.',\n",
              "  \"Rohit Sharma is the most successful captain in IPL history, leading Mumbai Indians to five titles. He's known for his calm demeanor and ability to play big innings under pressure.\",\n",
              "  'MS Dhoni, famously known as Captain Cool, has led Chennai Super Kings to multiple IPL titles. His finishing skills, wicketkeeping, and leadership are legendary.',\n",
              "  'Jasprit Bumrah is considered one of the best fast bowlers in T20 cricket. Playing for Mumbai Indians, he is known for his yorkers and death-over expertise.',\n",
              "  'Ravindra Jadeja is a dynamic all-rounder who contributes with both bat and ball. Representing Chennai Super Kings, his quick fielding and match-winning performances make him a key player.'],\n",
              " 'uris': None,\n",
              " 'included': ['embeddings', 'documents', 'metadatas'],\n",
              " 'data': None,\n",
              " 'metadatas': [{'team': 'Royal Challengers Bangalore'},\n",
              "  {'team': 'Mumbai Indians'},\n",
              "  {'team': 'Chennai Super Kings'},\n",
              "  {'team': 'Mumbai Indians'},\n",
              "  {'team': 'Chennai Super Kings'}]}"
            ]
          },
          "metadata": {},
          "execution_count": 13
        }
      ]
    },
    {
      "cell_type": "code",
      "source": [
        "# Search Documents\n",
        "vector_store.similarity_search(\n",
        "    query='Who among these are a bowler?',\n",
        "    k = 2\n",
        ")"
      ],
      "metadata": {
        "colab": {
          "base_uri": "https://localhost:8080/"
        },
        "id": "xKbM4PpEPqPY",
        "outputId": "7c50270b-4ccc-49f0-f715-40d48473054d"
      },
      "execution_count": 15,
      "outputs": [
        {
          "output_type": "execute_result",
          "data": {
            "text/plain": [
              "[Document(metadata={'team': 'Mumbai Indians'}, page_content='Jasprit Bumrah is considered one of the best fast bowlers in T20 cricket. Playing for Mumbai Indians, he is known for his yorkers and death-over expertise.'),\n",
              " Document(metadata={'team': 'Chennai Super Kings'}, page_content='Ravindra Jadeja is a dynamic all-rounder who contributes with both bat and ball. Representing Chennai Super Kings, his quick fielding and match-winning performances make him a key player.')]"
            ]
          },
          "metadata": {},
          "execution_count": 15
        }
      ]
    },
    {
      "cell_type": "code",
      "source": [
        "# Search with similarity Score\n",
        "vector_store.similarity_search_with_score(\n",
        "    query = \"Who among these are bowler?\",\n",
        "    k=1\n",
        ")"
      ],
      "metadata": {
        "colab": {
          "base_uri": "https://localhost:8080/"
        },
        "id": "tohKmre6PqSo",
        "outputId": "03bbfe98-efb7-4c3a-83e9-b0fe3dc9a05b"
      },
      "execution_count": 16,
      "outputs": [
        {
          "output_type": "execute_result",
          "data": {
            "text/plain": [
              "[(Document(metadata={'team': 'Mumbai Indians'}, page_content='Jasprit Bumrah is considered one of the best fast bowlers in T20 cricket. Playing for Mumbai Indians, he is known for his yorkers and death-over expertise.'),\n",
              "  0.34315598011016846)]"
            ]
          },
          "metadata": {},
          "execution_count": 16
        }
      ]
    },
    {
      "cell_type": "code",
      "source": [
        "# Meta-data Filtering\n",
        "vector_store.similarity_search_with_score(\n",
        "    query=\"\",\n",
        "    filter = {'team':\"Chennai Super Kings\"}\n",
        ")"
      ],
      "metadata": {
        "colab": {
          "base_uri": "https://localhost:8080/"
        },
        "id": "qsUiwmJePqUm",
        "outputId": "6586a40f-422c-4687-94c6-420e67054d8b"
      },
      "execution_count": 19,
      "outputs": [
        {
          "output_type": "execute_result",
          "data": {
            "text/plain": [
              "[(Document(metadata={'team': 'Chennai Super Kings'}, page_content='Ravindra Jadeja is a dynamic all-rounder who contributes with both bat and ball. Representing Chennai Super Kings, his quick fielding and match-winning performances make him a key player.'),\n",
              "  0.4943499267101288),\n",
              " (Document(metadata={'team': 'Chennai Super Kings'}, page_content='MS Dhoni, famously known as Captain Cool, has led Chennai Super Kings to multiple IPL titles. His finishing skills, wicketkeeping, and leadership are legendary.'),\n",
              "  0.5313642024993896)]"
            ]
          },
          "metadata": {},
          "execution_count": 19
        }
      ]
    },
    {
      "cell_type": "code",
      "source": [
        "# Update documents\n",
        "updated_doc1 = Document(\n",
        "    page_content=\"Virat Kohli, the former captain of Royal Challengers Bangalore (RCB), is renowned for his aggressive leadership and consistent batting performances. He holds the record for the most runs in IPL history, including multiple centuries in a single season. Despite RCB not winning an IPL title under his captaincy, Kohli's passion and fitness set a benchmark for the league. His ability to chase targets and anchor innings has made him one of the most dependable players in T20 cricket.\",\n",
        "    metadata={\"team\":\"Royal Challengers Bangalore\"}\n",
        ")\n",
        "vector_store.update_document(document_id='f413bbc2-6aeb-4e09-87e1-b6ccaff004ed',document=updated_doc1)"
      ],
      "metadata": {
        "id": "LN-lZJb1PqXZ"
      },
      "execution_count": 20,
      "outputs": []
    },
    {
      "cell_type": "code",
      "source": [
        "vector_store.get(include=['embeddings','documents','metadatas'])"
      ],
      "metadata": {
        "colab": {
          "base_uri": "https://localhost:8080/"
        },
        "id": "N4Vi0DOxPqcW",
        "outputId": "50687961-8fae-4ee9-a7c3-bc6f3dac99dc"
      },
      "execution_count": 21,
      "outputs": [
        {
          "output_type": "execute_result",
          "data": {
            "text/plain": [
              "{'ids': ['f413bbc2-6aeb-4e09-87e1-b6ccaff004ed',\n",
              "  'eddf6a56-3baf-41f3-b65d-1ebc4021d2e1',\n",
              "  'dd63e793-9b42-40ad-aade-2ec03e4473ba',\n",
              "  '18845c14-7dd5-492b-9cec-1f708fe20837',\n",
              "  'd7b8bead-10a7-4b31-af0c-ef8166ca74ef'],\n",
              " 'embeddings': array([[ 0.00705105, -0.03696831, -0.07145128, ..., -0.00077237,\n",
              "         -0.00999008,  0.03116232],\n",
              "        [ 0.01963637, -0.03145466, -0.0700325 , ...,  0.00115769,\n",
              "          0.00951147,  0.06269164],\n",
              "        [ 0.01976116, -0.03853019, -0.12037988, ..., -0.01708871,\n",
              "          0.02141129,  0.07051493],\n",
              "        [-0.00270025, -0.02594804, -0.05797949, ..., -0.00857932,\n",
              "          0.00691617,  0.02974599],\n",
              "        [ 0.00416735, -0.04619416, -0.06100054, ...,  0.01147635,\n",
              "          0.00969743,  0.07159948]]),\n",
              " 'documents': [\"Virat Kohli, the former captain of Royal Challengers Bangalore (RCB), is renowned for his aggressive leadership and consistent batting performances. He holds the record for the most runs in IPL history, including multiple centuries in a single season. Despite RCB not winning an IPL title under his captaincy, Kohli's passion and fitness set a benchmark for the league. His ability to chase targets and anchor innings has made him one of the most dependable players in T20 cricket.\",\n",
              "  \"Rohit Sharma is the most successful captain in IPL history, leading Mumbai Indians to five titles. He's known for his calm demeanor and ability to play big innings under pressure.\",\n",
              "  'MS Dhoni, famously known as Captain Cool, has led Chennai Super Kings to multiple IPL titles. His finishing skills, wicketkeeping, and leadership are legendary.',\n",
              "  'Jasprit Bumrah is considered one of the best fast bowlers in T20 cricket. Playing for Mumbai Indians, he is known for his yorkers and death-over expertise.',\n",
              "  'Ravindra Jadeja is a dynamic all-rounder who contributes with both bat and ball. Representing Chennai Super Kings, his quick fielding and match-winning performances make him a key player.'],\n",
              " 'uris': None,\n",
              " 'included': ['embeddings', 'documents', 'metadatas'],\n",
              " 'data': None,\n",
              " 'metadatas': [{'team': 'Royal Challengers Bangalore'},\n",
              "  {'team': 'Mumbai Indians'},\n",
              "  {'team': 'Chennai Super Kings'},\n",
              "  {'team': 'Mumbai Indians'},\n",
              "  {'team': 'Chennai Super Kings'}]}"
            ]
          },
          "metadata": {},
          "execution_count": 21
        }
      ]
    },
    {
      "cell_type": "code",
      "source": [
        "# Delete Documents\n",
        "vector_store.delete(ids=['dd63e793-9b42-40ad-aade-2ec03e4473ba'])"
      ],
      "metadata": {
        "id": "rAkZHHpUNgPJ"
      },
      "execution_count": 22,
      "outputs": []
    },
    {
      "cell_type": "code",
      "source": [
        "vector_store.get(include=['embeddings','documents','metadatas'])"
      ],
      "metadata": {
        "colab": {
          "base_uri": "https://localhost:8080/"
        },
        "id": "r8Bro1F7m1hf",
        "outputId": "fa29a63e-4630-4f01-f340-e592fbfa126e"
      },
      "execution_count": 23,
      "outputs": [
        {
          "output_type": "execute_result",
          "data": {
            "text/plain": [
              "{'ids': ['f413bbc2-6aeb-4e09-87e1-b6ccaff004ed',\n",
              "  'eddf6a56-3baf-41f3-b65d-1ebc4021d2e1',\n",
              "  '18845c14-7dd5-492b-9cec-1f708fe20837',\n",
              "  'd7b8bead-10a7-4b31-af0c-ef8166ca74ef'],\n",
              " 'embeddings': array([[ 0.00705105, -0.03696831, -0.07145128, ..., -0.00077237,\n",
              "         -0.00999008,  0.03116232],\n",
              "        [ 0.01963637, -0.03145466, -0.0700325 , ...,  0.00115769,\n",
              "          0.00951147,  0.06269164],\n",
              "        [-0.00270025, -0.02594804, -0.05797949, ..., -0.00857932,\n",
              "          0.00691617,  0.02974599],\n",
              "        [ 0.00416735, -0.04619416, -0.06100054, ...,  0.01147635,\n",
              "          0.00969743,  0.07159948]]),\n",
              " 'documents': [\"Virat Kohli, the former captain of Royal Challengers Bangalore (RCB), is renowned for his aggressive leadership and consistent batting performances. He holds the record for the most runs in IPL history, including multiple centuries in a single season. Despite RCB not winning an IPL title under his captaincy, Kohli's passion and fitness set a benchmark for the league. His ability to chase targets and anchor innings has made him one of the most dependable players in T20 cricket.\",\n",
              "  \"Rohit Sharma is the most successful captain in IPL history, leading Mumbai Indians to five titles. He's known for his calm demeanor and ability to play big innings under pressure.\",\n",
              "  'Jasprit Bumrah is considered one of the best fast bowlers in T20 cricket. Playing for Mumbai Indians, he is known for his yorkers and death-over expertise.',\n",
              "  'Ravindra Jadeja is a dynamic all-rounder who contributes with both bat and ball. Representing Chennai Super Kings, his quick fielding and match-winning performances make him a key player.'],\n",
              " 'uris': None,\n",
              " 'included': ['embeddings', 'documents', 'metadatas'],\n",
              " 'data': None,\n",
              " 'metadatas': [{'team': 'Royal Challengers Bangalore'},\n",
              "  {'team': 'Mumbai Indians'},\n",
              "  {'team': 'Mumbai Indians'},\n",
              "  {'team': 'Chennai Super Kings'}]}"
            ]
          },
          "metadata": {},
          "execution_count": 23
        }
      ]
    },
    {
      "cell_type": "code",
      "source": [],
      "metadata": {
        "id": "_IzzH03im1kd"
      },
      "execution_count": 21,
      "outputs": []
    },
    {
      "cell_type": "code",
      "source": [],
      "metadata": {
        "id": "pIdzb7Svm1nA"
      },
      "execution_count": 21,
      "outputs": []
    },
    {
      "cell_type": "code",
      "source": [],
      "metadata": {
        "id": "d7rdEp6pm1q0"
      },
      "execution_count": null,
      "outputs": []
    }
  ]
}